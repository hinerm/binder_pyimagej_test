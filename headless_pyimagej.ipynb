{
 "cells": [
  {
   "cell_type": "code",
   "execution_count": null,
   "id": "composed-contest",
   "metadata": {},
   "outputs": [],
   "source": [
    "!echo $DISPLAY"
   ]
  },
  {
   "cell_type": "code",
   "execution_count": null,
   "id": "radio-exhibition",
   "metadata": {},
   "outputs": [],
   "source": [
    "import pyvirtualdisplay\n",
    "\n",
    "_display = pyvirtualdisplay.Display(visible=False,  # use False with Xvfb,\n",
    "                                    size=(1400, 900))\n",
    "_ = _display.start()"
   ]
  },
  {
   "cell_type": "code",
   "execution_count": null,
   "id": "suitable-journey",
   "metadata": {},
   "outputs": [],
   "source": [
    "import imagej\n",
    "ij = imagej.init(headless=False)"
   ]
  },
  {
   "cell_type": "code",
   "execution_count": null,
   "id": "cognitive-surveillance",
   "metadata": {},
   "outputs": [],
   "source": [
    "ij.getVersion()"
   ]
  }
 ],
 "metadata": {
  "kernelspec": {
   "display_name": "Python 3",
   "language": "python",
   "name": "python3"
  },
  "language_info": {
   "codemirror_mode": {
    "name": "ipython",
    "version": 3
   },
   "file_extension": ".py",
   "mimetype": "text/x-python",
   "name": "python",
   "nbconvert_exporter": "python",
   "pygments_lexer": "ipython3",
   "version": "3.7.10"
  }
 },
 "nbformat": 4,
 "nbformat_minor": 5
}
